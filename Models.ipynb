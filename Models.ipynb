{
 "cells": [
  {
   "cell_type": "code",
   "execution_count": 1,
   "metadata": {
    "ExecuteTime": {
     "end_time": "2020-12-11T13:18:17.108081Z",
     "start_time": "2020-12-11T13:18:16.509145Z"
    }
   },
   "outputs": [],
   "source": [
    "import pandas as pd\n",
    "import numpy as np\n",
    "import re\n",
    "import time"
   ]
  },
  {
   "cell_type": "code",
   "execution_count": 2,
   "metadata": {
    "ExecuteTime": {
     "end_time": "2020-12-11T13:18:20.116131Z",
     "start_time": "2020-12-11T13:18:17.111073Z"
    }
   },
   "outputs": [],
   "source": [
    "from sklearn.linear_model import LinearRegression, Ridge, Lasso, ElasticNet, HuberRegressor, BayesianRidge\n",
    "from sklearn.linear_model import LogisticRegression, RidgeClassifier\n",
    "from sklearn.linear_model import PassiveAggressiveClassifier, Perceptron, SGDClassifier\n",
    "from sklearn.model_selection import cross_val_score, KFold, GridSearchCV, StratifiedKFold, cross_val_predict, RepeatedKFold\n",
    "from tqdm import tqdm\n",
    "from sklearn.base import clone\n",
    "from sklearn.tree import DecisionTreeClassifier, DecisionTreeRegressor, ExtraTreeClassifier, ExtraTreeRegressor\n",
    "from sklearn.neighbors import KNeighborsClassifier, KNeighborsRegressor\n",
    "\n",
    "\n",
    "from sklearn.svm import LinearSVR, SVR, LinearSVC, SVC\n",
    "from sklearn.ensemble import GradientBoostingRegressor, ExtraTreesRegressor\n",
    "from sklearn.ensemble import StackingRegressor, VotingRegressor, StackingClassifier, VotingClassifier\n",
    "from sklearn.ensemble import RandomForestClassifier, ExtraTreesClassifier, GradientBoostingClassifier\n",
    "from catboost import Pool, CatBoostRegressor\n",
    "from lightgbm import LGBMRegressor, LGBMClassifier\n",
    "from sklearn.kernel_ridge import KernelRidge\n",
    "from xgboost import XGBRegressor"
   ]
  },
  {
   "cell_type": "code",
   "execution_count": 3,
   "metadata": {
    "ExecuteTime": {
     "end_time": "2020-12-11T13:18:20.142086Z",
     "start_time": "2020-12-11T13:18:20.120120Z"
    }
   },
   "outputs": [],
   "source": [
    "class Base:\n",
    "    def __init__(self, methods='all'):\n",
    "\n",
    "        if methods == 'all':\n",
    "            self.methods = list(self.all_estimators.keys())\n",
    "            \n",
    "        elif isinstance(methods, str):\n",
    "            self.methods = [methods]\n",
    "            \n",
    "        elif isinstance(methods, dict):\n",
    "            self.methods = list(methods.keys())\n",
    "            self.all_estimators = methods\n",
    "            \n",
    "        else:\n",
    "            self.methods = list(methods)\n",
    "            \n",
    "            \n",
    "    def fit(self, X, y):\n",
    "        \n",
    "        self.estimators_ = dict()\n",
    "        for method in tqdm(self.methods):\n",
    "            \n",
    "            est = clone(self.all_estimators[method])              \n",
    "            est.fit(X, y)\n",
    "            self.estimators_[method] = est\n",
    "            \n",
    "        return(self.estimators_)"
   ]
  },
  {
   "cell_type": "code",
   "execution_count": 4,
   "metadata": {
    "ExecuteTime": {
     "end_time": "2020-11-17T12:04:15.805591Z",
     "start_time": "2020-11-17T12:04:15.785643Z"
    },
    "cell_style": "center"
   },
   "outputs": [],
   "source": [
    "class Clf:\n",
    "    def val(self, X, y):\n",
    "        try:\n",
    "            scores = dict()\n",
    "            pb = tqdm(self.methods)\n",
    "            for method in pb:\n",
    "                pb.set_description(desc=f'Validate {method}', refresh=False)\n",
    "                start_time = time.time()\n",
    "                cv = cross_val_score(clone(self.all_estimators[method]),\n",
    "                                     X,\n",
    "                                     y,\n",
    "                                     n_jobs=-1,\n",
    "                                     cv=RepeatedKFold(n_splits=4,\n",
    "                                                      n_repeats=2,\n",
    "                                                      random_state=13),\n",
    "                                     scoring='roc_auc')\n",
    "                scores[method] = round(np.mean(cv), 4)\n",
    "                pb.set_postfix(score=scores[method], refresh=False)\n",
    "                print(f'{method} validated in', time.time() - start_time)\n",
    "        finally:\n",
    "            self.val_scores = pd.Series(\n",
    "                    scores, name='val_scores', dtype='float64').sort_values(ascending=False)\n",
    "            return (self.val_scores)"
   ]
  },
  {
   "cell_type": "code",
   "execution_count": 5,
   "metadata": {
    "ExecuteTime": {
     "end_time": "2020-11-17T12:04:15.836507Z",
     "start_time": "2020-11-17T12:04:15.808582Z"
    },
    "cell_style": "center"
   },
   "outputs": [],
   "source": [
    "class Reg:\n",
    "    def val(self, X, y):\n",
    "        try:\n",
    "            scores = dict()\n",
    "            pb = tqdm(self.methods, leave=False)\n",
    "            for method in pb:\n",
    "                pb.set_description(desc=f'Validate {method}', refresh=False)\n",
    "                start_time = time.time()\n",
    "                cv = cross_val_score(clone(self.all_estimators[method]),\n",
    "                                     X,\n",
    "                                     y,\n",
    "                                     n_jobs=-1,\n",
    "                                     cv=RepeatedKFold(n_splits=4,\n",
    "                                                      n_repeats=2,\n",
    "                                                      random_state=13),\n",
    "                                     scoring='neg_root_mean_squared_error')\n",
    "\n",
    "                scores[method] = round(np.mean(-cv), 4)\n",
    "                pb.set_postfix(score=scores[method], refresh=False)\n",
    "                print(f'{method} validated in',\n",
    "                      round(time.time() - start_time), 3)\n",
    "        finally:\n",
    "            self.val_scores = pd.Series(\n",
    "                scores, name='val_scores',\n",
    "                dtype='float64').sort_values(ascending=False)\n",
    "            return (self.val_scores)\n",
    "\n",
    "    def predict(self, X, transform=None):\n",
    "\n",
    "        predicts = pd.DataFrame(index=X.index)\n",
    "\n",
    "        for method in tqdm(self.methods):\n",
    "            if transform == 'exp':\n",
    "                predicts[method] = np.exp(self.estimators_[method].predict(X))\n",
    "            elif transform == 'expm1':\n",
    "                predicts[method] = np.expm1(\n",
    "                    self.estimators_[method].predict(X))\n",
    "            else:\n",
    "                predicts[method] = self.estimators_[method].predict(X)\n",
    "\n",
    "        return (predicts)"
   ]
  },
  {
   "cell_type": "code",
   "execution_count": 113,
   "metadata": {
    "cell_style": "center"
   },
   "outputs": [],
   "source": [
    "class Lin_Clf(Base, Clf):\n",
    "    def __init__(self, methods='all', **prms):\n",
    "        \"\"\"Linear models for classification tasks\"\"\"\n",
    "        \"\"\"'log', 'ridge'\n",
    "        'all'\"\"\"\n",
    "\n",
    "        self.all_estimators = {\n",
    "            'log':\n",
    "            LogisticRegression(random_state=13, n_jobs=-1, **prms),\n",
    "            'ridge':\n",
    "            RidgeClassifier(solver='saga',\n",
    "                            max_iter=1000000,\n",
    "                            random_state=13,\n",
    "                            **prms),\n",
    "            'dt':\n",
    "            DecisionTreeClassifier(random_state=13, **prms),\n",
    "            'et':\n",
    "            ExtraTreeClassifier(random_state=13, **prms),\n",
    "            'passagr':\n",
    "            PassiveAggressiveClassifier(max_iter=1000000,\n",
    "                                        n_jobs=-1,\n",
    "                                        random_state=13,\n",
    "                                        n_iter_no_change=10,\n",
    "                                        **prms),\n",
    "            'lsvm':\n",
    "            LinearSVC(max_iter=100, random_state=13, **prms),\n",
    "            'svm':\n",
    "            SVC(max_iter=100, random_state=13, **prms),\n",
    "            'perceptron':\n",
    "            Perceptron(n_jobs=-1, random_state=13, n_iter_no_change=10,\n",
    "                       **prms),\n",
    "            'sgd':\n",
    "            SGDClassifier(n_jobs=-1,\n",
    "                          random_state=13,\n",
    "                          n_iter_no_change=10,\n",
    "                          **prms),\n",
    "#             'knn': KNeighborsClassifier(n_jobs=-1, **prms),\n",
    "        }\n",
    "\n",
    "        Base.__init__(self, methods)"
   ]
  },
  {
   "cell_type": "code",
   "execution_count": 114,
   "metadata": {},
   "outputs": [],
   "source": [
    "class Ensembles_Clf(Base, Clf):\n",
    "    def __init__(self, methods='all', **prms):\n",
    "        \"\"\"Ensemble models for classification tasks\"\"\"\n",
    "        \"\"\"Possible methods: or 'all'\"\"\"\n",
    "\n",
    "        self.all_estimators = {\n",
    "            'rf':\n",
    "            RandomForestClassifier(n_estimators=100,\n",
    "                                   n_jobs=-1,\n",
    "                                   random_state=13,\n",
    "                                   **prms),\n",
    "            'et':\n",
    "            ExtraTreesClassifier(n_estimators=100,\n",
    "                                 n_jobs=-1,\n",
    "                                 random_state=13,\n",
    "                                 **prms),\n",
    "            'gbm':\n",
    "            GradientBoostingClassifier(n_estimators=100,\n",
    "                                       random_state=13,\n",
    "                                       n_iter_no_change=10,\n",
    "                                       **prms),\n",
    "            'lgbm': LGBMClassifier(n_estimators=100,\n",
    "                                  random_state=13,\n",
    "                                  n_jobs=-1,\n",
    "                                  **prms),\n",
    "        }\n",
    "\n",
    "        Base.__init__(self, methods)"
   ]
  },
  {
   "cell_type": "code",
   "execution_count": 8,
   "metadata": {
    "ExecuteTime": {
     "end_time": "2020-11-10T11:34:47.658315Z",
     "start_time": "2020-11-10T11:34:47.646345Z"
    }
   },
   "outputs": [],
   "source": [
    "class Lin_Reg(Reg, Base):\n",
    "    def __init__(self, methods='all', **prms):\n",
    "        \"\"\"Linear models for regression tasks\"\"\"\n",
    "        \n",
    "        \"\"\"Possible methods: 'linreg', 'kridge', 'ridge', 'lasso', \n",
    "        'elastic', 'huber', 'bayes', 'lsvm', 'svm' or 'all'\"\"\"\n",
    "        self.all_estimators = {\n",
    "            'linreg': LinearRegression(n_jobs=-1,\n",
    "                                       **prms),\n",
    "            'ridge': Ridge(random_state=13,\n",
    "                           **prms),\n",
    "            'lasso': Lasso(max_iter=1000000,\n",
    "                           random_state=13,\n",
    "                           **prms),\n",
    "            'elastic': ElasticNet(max_iter=1000000,\n",
    "                                  random_state=13,\n",
    "                                  **prms),\n",
    "            'huber': HuberRegressor(max_iter=1000,\n",
    "                                    **prms),\n",
    "            'bayes': BayesianRidge(n_iter=1000000,\n",
    "                                   **prms),\n",
    "            'kridge': KernelRidge(**prms),\n",
    "            'lsvm': LinearSVR(max_iter=1000,\n",
    "                          random_state=13, **prms),\n",
    "            'svm': SVR(max_iter=1000, **prms),\n",
    "#             'knn': KNeighborsRegressor(n_jobs=-1, **prms),\n",
    "        }\n",
    "\n",
    "        Base.__init__(self, methods, **prms)"
   ]
  },
  {
   "cell_type": "code",
   "execution_count": null,
   "metadata": {},
   "outputs": [],
   "source": [
    "class Ensembles_Reg(Base, Reg):\n",
    "    def __init__(self, methods='all', **prms):\n",
    "        \"\"\"Ensemble models for classification tasks\"\"\"\n",
    "\n",
    "\n",
    "        self.all_estimators = {\n",
    "            'gbm': GradientBoostingRegressor(n_estimators=10000,\n",
    "                                              random_state=13,\n",
    "                                              n_iter_no_change=10,\n",
    "                                              **prms),            \n",
    "            'lgbm': LGBMRegressor(n_estimators=1000,\n",
    "                                  random_state=13,\n",
    "                                  n_jobs=-1,\n",
    "                                  **prms),\n",
    "            'cat': CatBoostRegressor(n_estimators=300,\n",
    "                                      random_state=13,\n",
    "                                      early_stopping_rounds=10,\n",
    "                                      **prms),\n",
    "            'xgb': XGBRegressor(n_estimators=500,\n",
    "                                verbosity=0,\n",
    "                                n_jobs=-1,\n",
    "                                random_state=13,\n",
    "                                **prms),\n",
    "            'rf': RandomForestRegressor(n_estimators=300,\n",
    "                                         n_jobs=-1,\n",
    "                                         random_state=13,\n",
    "                                         **prms),\n",
    "            'dt': DecisionTreeRegressor(random_state=13,\n",
    "                                        **prms),\n",
    "            'et': ExtraTreeRegressor(random_state=13, **prms),\n",
    "            'ets': ExtraTreesRegressor(n_estimators=300,\n",
    "                                  n_jobs=-1,\n",
    "                                  random_state=13,\n",
    "                                        **prms),\n",
    "            'mlp': MLPRegressor(max_iter=500,\n",
    "                                early_stopping=True,\n",
    "                                n_iter_no_change=10,\n",
    "                                random_state=13,\n",
    "                                **prms)\n",
    "        }\n",
    "\n",
    "        Base.__init__(self, methods)"
   ]
  },
  {
   "cell_type": "code",
   "execution_count": null,
   "metadata": {},
   "outputs": [],
   "source": [
    "class StackingAveragedModels():\n",
    "    def __init__(self, base_models, meta_model, n_folds=5):\n",
    "        if isinstance(base_models, dict):\n",
    "            self.base_models = base_models\n",
    "        elif isinstance(base_models, list):\n",
    "            self.base_models = dict(zip(range(len(base_models)), base_models))\n",
    "\n",
    "        if isinstance(meta_model, dict):\n",
    "            self.meta_model = clone(meta_model.popitem()[1])\n",
    "        else:\n",
    "            self.meta_model = clone(meta_model)\n",
    "        self._kf = KFold(n_splits=n_folds, shuffle=True, random_state=13)\n",
    "\n",
    "        self.all_models = dict.fromkeys(self.base_models.keys(), list())\n",
    "\n",
    "    def fit(self, X, y):\n",
    "        preds = pd.DataFrame(index=range(len(X)),\n",
    "                             columns=self.base_models.keys())\n",
    "        for name, model in tqdm(self.base_models.items()):\n",
    "            for train_index, holdout_index in self._kf.split(X, y):\n",
    "                instance = clone(model)\n",
    "                instance.fit(X.iloc[train_index], y.iloc[train_index])\n",
    "                self.all_models[name].append(instance)\n",
    "                y_pred = instance.predict(X.iloc[holdout_index])\n",
    "                preds.loc[holdout_index, name] = y_pred\n",
    "\n",
    "        self.meta_model.fit(preds, y)\n",
    "        return self\n",
    "\n",
    "    def predict(self, X):\n",
    "        meta_features = np.column_stack([\n",
    "            np.column_stack([model.predict(X)\n",
    "                             for model in base_model]).mean(axis=1)\n",
    "            for base_model in self.all_models.values()\n",
    "        ])\n",
    "        return self.meta_model.predict(meta_features)"
   ]
  },
  {
   "cell_type": "code",
   "execution_count": null,
   "metadata": {},
   "outputs": [],
   "source": []
  },
  {
   "cell_type": "code",
   "execution_count": 40,
   "metadata": {},
   "outputs": [],
   "source": []
  }
 ],
 "metadata": {
  "kernelspec": {
   "display_name": "Python 3",
   "language": "python",
   "name": "python3"
  },
  "language_info": {
   "codemirror_mode": {
    "name": "ipython",
    "version": 3
   },
   "file_extension": ".py",
   "mimetype": "text/x-python",
   "name": "python",
   "nbconvert_exporter": "python",
   "pygments_lexer": "ipython3",
   "version": "3.8.5"
  },
  "notify_time": "5",
  "varInspector": {
   "cols": {
    "lenName": 16,
    "lenType": 16,
    "lenVar": 40
   },
   "kernels_config": {
    "python": {
     "delete_cmd_postfix": "",
     "delete_cmd_prefix": "del ",
     "library": "var_list.py",
     "varRefreshCmd": "print(var_dic_list())"
    },
    "r": {
     "delete_cmd_postfix": ") ",
     "delete_cmd_prefix": "rm(",
     "library": "var_list.r",
     "varRefreshCmd": "cat(var_dic_list()) "
    }
   },
   "oldHeight": 122.4,
   "position": {
    "height": "380.4px",
    "left": "1168px",
    "right": "20px",
    "top": "120px",
    "width": "348px"
   },
   "types_to_exclude": [
    "module",
    "function",
    "builtin_function_or_method",
    "instance",
    "_Feature"
   ],
   "varInspector_section_display": "block",
   "window_display": false
  }
 },
 "nbformat": 4,
 "nbformat_minor": 4
}
