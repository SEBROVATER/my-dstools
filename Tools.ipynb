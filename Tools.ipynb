{
 "cells": [
  {
   "cell_type": "code",
   "execution_count": 2,
   "metadata": {
    "ExecuteTime": {
     "end_time": "2020-12-04T13:31:01.277273Z",
     "start_time": "2020-12-04T13:31:00.710904Z"
    }
   },
   "outputs": [],
   "source": [
    "import random\n",
    "import torch\n",
    "import itertools\n",
    "\n",
    "import numpy as np\n",
    "import pandas as pd\n",
    "\n",
    "from tqdm import tqdm"
   ]
  },
  {
   "cell_type": "code",
   "execution_count": 3,
   "metadata": {
    "ExecuteTime": {
     "end_time": "2020-12-04T13:31:03.565008Z",
     "start_time": "2020-12-04T13:31:03.548017Z"
    }
   },
   "outputs": [],
   "source": [
    "def seed_everything(seed=13):\n",
    "    random.seed(seed)\n",
    "#     from os import environ\n",
    "#     environ['PYTHONHASHSEED'] = str(seed)\n",
    "    np.random.seed(seed)\n",
    "    torch.manual_seed(seed)\n",
    "    torch.cuda.manual_seed(seed)\n",
    "    torch.backends.cudnn.deterministic = True\n",
    "    torch.backends.cudnn.benchmark = True"
   ]
  },
  {
   "cell_type": "code",
   "execution_count": 4,
   "metadata": {
    "ExecuteTime": {
     "end_time": "2020-12-04T13:31:03.724582Z",
     "start_time": "2020-12-04T13:31:03.705634Z"
    }
   },
   "outputs": [],
   "source": [
    "def make_variables(df, target_name, test=None):\n",
    "    \n",
    "    global numerical_feats, categorical_feats, numerical_pairs, target_pairs\n",
    "    global target, empties\n",
    "    target = target_name\n",
    "    \n",
    "    numerical_feats = df.select_dtypes(exclude=['object', 'category',\n",
    "                                        'string', 'boolean']).columns\n",
    "    \n",
    "    categorical_feats = df.select_dtypes(include=['object', 'category',\n",
    "                                      'string', 'boolean']).columns\n",
    "    \n",
    "    train_nans = set(df.columns[df.isna().any(axis=0)])\n",
    "    if test is not None:\n",
    "        test_nans = set(test.columns[test.isna().any(axis=0)])\n",
    "        empties = dict.fromkeys(train_nans | test_nans)\n",
    "    elif test is None:\n",
    "        empties = dict.fromkeys(train_nans)\n",
    "    \n",
    "    numerical_pairs = list(itertools.combinations(numerical_feats, 2))\n",
    "    target_pairs = [(col, target) for col in numerical_feats]"
   ]
  },
  {
   "cell_type": "code",
   "execution_count": 5,
   "metadata": {
    "ExecuteTime": {
     "end_time": "2020-12-04T13:31:03.881708Z",
     "start_time": "2020-12-04T13:31:03.868743Z"
    }
   },
   "outputs": [],
   "source": [
    "def get_optimized_column(col):\n",
    "    try:\n",
    "        if not np.issubdtype(col.dtypes, np.number):\n",
    "            return col\n",
    "    except TypeError:\n",
    "        return col\n",
    "\n",
    "    integers = [np.int8, np.int16, np.int32, np.int64]\n",
    "    floats = [np.float16, np.float32, np.float64]\n",
    "    max = col.max()\n",
    "    relevant_types = integers if np.issubdtype(col.dtypes,\n",
    "                                               np.integer) else floats\n",
    "    for dtype in relevant_types:\n",
    "        try:\n",
    "            if dtype(max) == max:\n",
    "                return col.astype(dtype)\n",
    "        except OverflowError:\n",
    "            continue\n",
    "    return col\n",
    "\n",
    "\n",
    "def reduce_mem_usage(df, verbose=True):\n",
    "    start_mem = df.memory_usage().sum() / 1024**2\n",
    "    if verbose:\n",
    "        for col in tqdm(df.columns):\n",
    "            df[col] = get_optimized_column(df[col])\n",
    "    else:\n",
    "        for col in df.columns:\n",
    "            df[col] = get_optimized_column(df[col])\n",
    "    end_mem = df.memory_usage().sum() / 1024**2\n",
    "    if verbose:\n",
    "        print('Mem. usage decreased to {:5.2f} Mb ({:.1f}% reduction)'.format(\n",
    "            end_mem, 100 * (start_mem - end_mem) / start_mem))"
   ]
  },
  {
   "cell_type": "code",
   "execution_count": null,
   "metadata": {},
   "outputs": [],
   "source": []
  }
 ],
 "metadata": {
  "kernelspec": {
   "display_name": "Python 3",
   "language": "python",
   "name": "python3"
  },
  "language_info": {
   "codemirror_mode": {
    "name": "ipython",
    "version": 3
   },
   "file_extension": ".py",
   "mimetype": "text/x-python",
   "name": "python",
   "nbconvert_exporter": "python",
   "pygments_lexer": "ipython3",
   "version": "3.8.5"
  },
  "varInspector": {
   "cols": {
    "lenName": 16,
    "lenType": 16,
    "lenVar": 40
   },
   "kernels_config": {
    "python": {
     "delete_cmd_postfix": "",
     "delete_cmd_prefix": "del ",
     "library": "var_list.py",
     "varRefreshCmd": "print(var_dic_list())"
    },
    "r": {
     "delete_cmd_postfix": ") ",
     "delete_cmd_prefix": "rm(",
     "library": "var_list.r",
     "varRefreshCmd": "cat(var_dic_list()) "
    }
   },
   "types_to_exclude": [
    "module",
    "function",
    "builtin_function_or_method",
    "instance",
    "_Feature"
   ],
   "window_display": false
  }
 },
 "nbformat": 4,
 "nbformat_minor": 4
}
