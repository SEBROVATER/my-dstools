{
 "cells": [
  {
   "cell_type": "code",
   "execution_count": 1,
   "metadata": {
    "ExecuteTime": {
     "end_time": "2020-11-15T09:14:12.255338Z",
     "start_time": "2020-11-15T09:14:11.606401Z"
    }
   },
   "outputs": [],
   "source": [
    "import pandas as pd\n",
    "import numpy as np\n",
    "import itertools\n",
    "\n",
    "from pandas.api.types import CategoricalDtype\n",
    "from tqdm import tqdm"
   ]
  },
  {
   "cell_type": "code",
   "execution_count": 108,
   "metadata": {
    "cell_style": "center"
   },
   "outputs": [],
   "source": [
    "def deal_with_na(df, to_fill:dict=None, for_cols=None, for_index=None):\n",
    "    \n",
    "    if for_cols is not None:\n",
    "        if for_cols >= 1:\n",
    "            df = df.loc[:, df.isna().sum(axis=0) < int(for_cols)]\n",
    "        elif 0 < for_cols < 1:\n",
    "            df = df.loc[:, df.isna().sum(axis=0) <= \n",
    "                        int(for_cols*len(df.columns))]\n",
    "            \n",
    "    if for_index is not None:\n",
    "        if for_index >= 1:\n",
    "            df = df[df.isna().sum(axis=1) < int(for_index)]\n",
    "        elif 0 < for_index < 1:\n",
    "            df = df[df.isna().sum(axis=1) <= \n",
    "                        int(for_index*len(df.columns))]\n",
    "            \n",
    "    if to_fill is not None:\n",
    "        df = df.fillna(to_fill)\n",
    "            \n",
    "    return(df)"
   ]
  },
  {
   "cell_type": "code",
   "execution_count": 13,
   "metadata": {},
   "outputs": [],
   "source": [
    "def to_cats(df, cols:list, cats=None):\n",
    "    df = df.copy()\n",
    "    for col in cols:\n",
    "        try:\n",
    "            if cats is not None:\n",
    "                ordered = True\n",
    "            else:\n",
    "                ordered = False\n",
    "            df.loc[:, col] = df.loc[:, col].astype(pd.CategoricalDtype(\n",
    "                categories=cats, ordered=ordered))\n",
    "    \n",
    "        except KeyError:\n",
    "            print(col, 'does not exist')\n",
    "            continue\n",
    "    \n",
    "    return df"
   ]
  },
  {
   "cell_type": "code",
   "execution_count": null,
   "metadata": {},
   "outputs": [],
   "source": [
    "def to_nums(df, cols:list):\n",
    "    df = df.copy()\n",
    "    for col in cols:\n",
    "        try:\n",
    "            df.loc[:, col] = pd.to_numeric(df.loc[:, col])\n",
    "    \n",
    "        except KeyError:\n",
    "            print(col, 'does not exist')\n",
    "            continue\n",
    "    \n",
    "    return df"
   ]
  },
  {
   "cell_type": "code",
   "execution_count": 36,
   "metadata": {},
   "outputs": [],
   "source": [
    "def drop_it(df, cols: list = None, indexes: list = None):\n",
    "    if cols is not None:\n",
    "\n",
    "        for col in cols:\n",
    "            try:\n",
    "                df = df.drop(columns=col)\n",
    "            except KeyError:\n",
    "                print(f'Column {col} does not exist')\n",
    "\n",
    "    if indexes is not None:\n",
    "\n",
    "        for index in indexes:\n",
    "            try:\n",
    "                df = df.drop(index=index)\n",
    "            except KeyError:\n",
    "                print(f'Index {index} does not exist')\n",
    "\n",
    "    return (df)"
   ]
  },
  {
   "cell_type": "code",
   "execution_count": null,
   "metadata": {},
   "outputs": [],
   "source": []
  },
  {
   "cell_type": "code",
   "execution_count": null,
   "metadata": {},
   "outputs": [],
   "source": []
  }
 ],
 "metadata": {
  "kernelspec": {
   "display_name": "Python 3",
   "language": "python",
   "name": "python3"
  },
  "language_info": {
   "codemirror_mode": {
    "name": "ipython",
    "version": 3
   },
   "file_extension": ".py",
   "mimetype": "text/x-python",
   "name": "python",
   "nbconvert_exporter": "python",
   "pygments_lexer": "ipython3",
   "version": "3.8.5"
  },
  "varInspector": {
   "cols": {
    "lenName": 16,
    "lenType": 16,
    "lenVar": 40
   },
   "kernels_config": {
    "python": {
     "delete_cmd_postfix": "",
     "delete_cmd_prefix": "del ",
     "library": "var_list.py",
     "varRefreshCmd": "print(var_dic_list())"
    },
    "r": {
     "delete_cmd_postfix": ") ",
     "delete_cmd_prefix": "rm(",
     "library": "var_list.r",
     "varRefreshCmd": "cat(var_dic_list()) "
    }
   },
   "types_to_exclude": [
    "module",
    "function",
    "builtin_function_or_method",
    "instance",
    "_Feature"
   ],
   "window_display": false
  }
 },
 "nbformat": 4,
 "nbformat_minor": 4
}
