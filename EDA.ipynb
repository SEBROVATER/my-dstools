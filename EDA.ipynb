{
 "cells": [
  {
   "cell_type": "code",
   "execution_count": 1,
   "metadata": {
    "ExecuteTime": {
     "end_time": "2020-11-02T10:35:01.652773Z",
     "start_time": "2020-11-02T10:34:58.830856Z"
    }
   },
   "outputs": [
    {
     "data": {
      "text/html": [
       "        <script type=\"text/javascript\">\n",
       "        window.PlotlyConfig = {MathJaxConfig: 'local'};\n",
       "        if (window.MathJax) {MathJax.Hub.Config({SVG: {font: \"STIX-Web\"}});}\n",
       "        if (typeof require !== 'undefined') {\n",
       "        require.undef(\"plotly\");\n",
       "        requirejs.config({\n",
       "            paths: {\n",
       "                'plotly': ['https://cdn.plot.ly/plotly-latest.min']\n",
       "            }\n",
       "        });\n",
       "        require(['plotly'], function(Plotly) {\n",
       "            window._Plotly = Plotly;\n",
       "        });\n",
       "        }\n",
       "        </script>\n",
       "        "
      ]
     },
     "metadata": {},
     "output_type": "display_data"
    },
    {
     "data": {
      "text/html": [
       "        <script type=\"text/javascript\">\n",
       "        window.PlotlyConfig = {MathJaxConfig: 'local'};\n",
       "        if (window.MathJax) {MathJax.Hub.Config({SVG: {font: \"STIX-Web\"}});}\n",
       "        if (typeof require !== 'undefined') {\n",
       "        require.undef(\"plotly\");\n",
       "        requirejs.config({\n",
       "            paths: {\n",
       "                'plotly': ['https://cdn.plot.ly/plotly-latest.min']\n",
       "            }\n",
       "        });\n",
       "        require(['plotly'], function(Plotly) {\n",
       "            window._Plotly = Plotly;\n",
       "        });\n",
       "        }\n",
       "        </script>\n",
       "        "
      ]
     },
     "metadata": {},
     "output_type": "display_data"
    }
   ],
   "source": [
    "import pandas as pd\n",
    "import numpy as np\n",
    "\n",
    "import plotly.express as px\n",
    "\n",
    "import cufflinks as cf\n",
    "cf.set_config_file(sharing='private',\n",
    "                   colorscale='brbg',\n",
    "                   offline=True,\n",
    "                   offline_show_link=False,\n",
    "                   theme='ggplot')"
   ]
  },
  {
   "cell_type": "code",
   "execution_count": 2,
   "metadata": {
    "ExecuteTime": {
     "end_time": "2020-11-02T10:35:01.668216Z",
     "start_time": "2020-11-02T10:35:01.654733Z"
    },
    "scrolled": true
   },
   "outputs": [],
   "source": [
    "# raw_train.info()\n",
    "\n",
    "# raw_train.describe(include='object').T\n",
    "\n",
    "# raw_train.describe(exclude='object').T"
   ]
  },
  {
   "cell_type": "code",
   "execution_count": 3,
   "metadata": {
    "ExecuteTime": {
     "end_time": "2020-11-02T10:35:01.684210Z",
     "start_time": "2020-11-02T10:35:01.671207Z"
    }
   },
   "outputs": [],
   "source": [
    "def show_missings(df):\n",
    "\n",
    "    missings = df.isna().sum().loc[df.columns[df.isna().any(\n",
    "        axis=0)]].rename('total').sort_values(ascending=False)\n",
    "\n",
    "    if len(missings) == 0:\n",
    "        print('There is no one missing value')\n",
    "\n",
    "    else:\n",
    "        fig = px.bar(missings,\n",
    "                     labels={'value': \"nan's count\",\n",
    "                             'index': 'Feature'},\n",
    "                     color_discrete_sequence=px.colors.qualitative.Prism,\n",
    "                     title='Missing values ratio',\n",
    "                     range_y=(0, len(df)))\n",
    "        fig.show()"
   ]
  },
  {
   "cell_type": "code",
   "execution_count": 4,
   "metadata": {
    "ExecuteTime": {
     "end_time": "2020-11-02T10:35:01.700133Z",
     "start_time": "2020-11-02T10:35:01.687165Z"
    }
   },
   "outputs": [],
   "source": [
    "def heatmap(df, target, bound=None, method='pearson'):\n",
    "\n",
    "    if bound == None:\n",
    "        bound = sum(\n",
    "            ~df.dtypes.isin(['object', 'category', 'string', 'boolean']))\n",
    "\n",
    "    corr = df.corr(method=method)\n",
    "    corr_abs = corr.abs()\n",
    "\n",
    "    if bound > 1:\n",
    "        cols = corr_abs.nlargest(bound, target)[target].index\n",
    "\n",
    "    elif 0 < bound < 1:\n",
    "        cols = corr_abs.columns[corr_abs[target] >= bound]\n",
    "\n",
    "    df[cols].corr().sort_values(\n",
    "        target, axis=1, ascending=False, key=abs).sort_values(\n",
    "            target, axis=0, ascending=False, key=abs).iplot(\n",
    "                kind='heatmap',\n",
    "                center_scale=0,\n",
    "                title=f'TOP {len(cols)} correlations')"
   ]
  },
  {
   "cell_type": "code",
   "execution_count": 5,
   "metadata": {
    "ExecuteTime": {
     "end_time": "2020-11-02T10:35:01.716089Z",
     "start_time": "2020-11-02T10:35:01.703123Z"
    }
   },
   "outputs": [],
   "source": [
    "def next_scatter(df, col_pairs:list, third_col=None):\n",
    "    \"\"\"Use list of tuples of lists\"\"\"\n",
    "\n",
    "    for pair in col_pairs:\n",
    "        fig = px.scatter(df,\n",
    "                         x=pair[0],\n",
    "                         y=pair[1],\n",
    "                         color=third_col,\n",
    "                         trendline=\"ols\",\n",
    "                         color_discrete_sequence=px.colors.qualitative.Prism,\n",
    "                         color_continuous_scale=px.colors.sequential.Aggrnyl,\n",
    "                         hover_name=[\"Index \" + str(i) for i in df.index],\n",
    "                         title=f'''Correlation between {pair[0]} and {pair[1]}\n",
    "    with coefficient {df[pair[0]].corr(df[pair[1]]):.2f}''')\n",
    "        fig.show()\n",
    "        if len(col_pairs) == 1:\n",
    "            pass\n",
    "        else:\n",
    "            yield"
   ]
  },
  {
   "cell_type": "code",
   "execution_count": 2,
   "metadata": {},
   "outputs": [],
   "source": [
    "def next_hist(df, cols:list):\n",
    "\n",
    "    for next_col in cols:\n",
    "        fig = px.histogram(df,\n",
    "                       x=next_col,\n",
    "                       hover_name=[\"Index \" + str(i) for i in df.index],\n",
    "                           color_discrete_sequence=px.colors.qualitative.Prism,\n",
    "                       title=f'Histogram of {next_col}',\n",
    "                       opacity=0.8)\n",
    "        fig.show()\n",
    "\n",
    "        if df[next_col].dtype not in ['object', 'str', 'bool']:\n",
    "            print(\n",
    "                f'Skewness {df[next_col].skew():.2f}\\nKurtosis {df[next_col].kurt():.2f}')\n",
    "        if len(cols) == 1:\n",
    "            pass\n",
    "        else:\n",
    "            yield"
   ]
  },
  {
   "cell_type": "code",
   "execution_count": 13,
   "metadata": {
    "scrolled": false
   },
   "outputs": [],
   "source": [
    "def next_violin(df, cols: list, target):\n",
    "\n",
    "    for next_col in cols:\n",
    "\n",
    "        fig = px.violin(df,\n",
    "                    y=target,\n",
    "                    x=next_col,\n",
    "                    box=True,\n",
    "                        hover_name=[\"Index \" + str(i) for i in df.index],\n",
    "                    points='suspectedoutliers',\n",
    "                        color_discrete_sequence=px.colors.qualitative.Prism,\n",
    "                    title=f'{target} distribution for {next_col} feature')\n",
    "\n",
    "        fig.show()\n",
    "        if len(cols) == 1:\n",
    "            pass\n",
    "        else:\n",
    "            yield"
   ]
  }
 ],
 "metadata": {
  "kernelspec": {
   "display_name": "Python 3",
   "language": "python",
   "name": "python3"
  },
  "language_info": {
   "codemirror_mode": {
    "name": "ipython",
    "version": 3
   },
   "file_extension": ".py",
   "mimetype": "text/x-python",
   "name": "python",
   "nbconvert_exporter": "python",
   "pygments_lexer": "ipython3",
   "version": "3.7.9"
  },
  "varInspector": {
   "cols": {
    "lenName": 16,
    "lenType": 16,
    "lenVar": 40
   },
   "kernels_config": {
    "python": {
     "delete_cmd_postfix": "",
     "delete_cmd_prefix": "del ",
     "library": "var_list.py",
     "varRefreshCmd": "print(var_dic_list())"
    },
    "r": {
     "delete_cmd_postfix": ") ",
     "delete_cmd_prefix": "rm(",
     "library": "var_list.r",
     "varRefreshCmd": "cat(var_dic_list()) "
    }
   },
   "types_to_exclude": [
    "module",
    "function",
    "builtin_function_or_method",
    "instance",
    "_Feature"
   ],
   "window_display": false
  }
 },
 "nbformat": 4,
 "nbformat_minor": 4
}
